{
<<<<<<< HEAD
 "cells": [
  {
   "cell_type": "markdown",
   "metadata": {},
   "source": [
    "# Notebook For Testing\n",
    "\n",
    "This notebook analyzys and visualizes data"
   ]
  },
  {
   "cell_type": "code",
   "execution_count": 1,
   "metadata": {},
   "outputs": [
    {
     "data": {
      "text/html": [
       "<div>\n",
       "<style scoped>\n",
       "    .dataframe tbody tr th:only-of-type {\n",
       "        vertical-align: middle;\n",
       "    }\n",
       "\n",
       "    .dataframe tbody tr th {\n",
       "        vertical-align: top;\n",
       "    }\n",
       "\n",
       "    .dataframe thead th {\n",
       "        text-align: right;\n",
       "    }\n",
       "</style>\n",
       "<table border=\"1\" class=\"dataframe\">\n",
       "  <thead>\n",
       "    <tr style=\"text-align: right;\">\n",
       "      <th></th>\n",
       "      <th>DATE</th>\n",
       "      <th>HOURLYDewPointTempF</th>\n",
       "      <th>HOURLYRelativeHumidity</th>\n",
       "      <th>HOURLYDRYBULBTEMPF</th>\n",
       "      <th>HOURLYWETBULBTEMPF</th>\n",
       "      <th>HOURLYPrecip</th>\n",
       "      <th>HOURLYWindSpeed</th>\n",
       "      <th>HOURLYSeaLevelPressure</th>\n",
       "      <th>HOURLYStationPressure</th>\n",
       "    </tr>\n",
       "  </thead>\n",
       "  <tbody>\n",
       "    <tr>\n",
       "      <th>0</th>\n",
       "      <td>2015-07-25T13:51:00Z</td>\n",
       "      <td>60</td>\n",
       "      <td>46.0</td>\n",
       "      <td>83.0</td>\n",
       "      <td>68.0</td>\n",
       "      <td>0.00</td>\n",
       "      <td>13.0</td>\n",
       "      <td>30.01</td>\n",
       "      <td>29.99</td>\n",
       "    </tr>\n",
       "    <tr>\n",
       "      <th>1</th>\n",
       "      <td>2016-11-18T23:51:00Z</td>\n",
       "      <td>34</td>\n",
       "      <td>48.0</td>\n",
       "      <td>53.0</td>\n",
       "      <td>44.0</td>\n",
       "      <td>0.00</td>\n",
       "      <td>6.0</td>\n",
       "      <td>30.05</td>\n",
       "      <td>30.03</td>\n",
       "    </tr>\n",
       "    <tr>\n",
       "      <th>2</th>\n",
       "      <td>2013-01-06T08:51:00Z</td>\n",
       "      <td>33</td>\n",
       "      <td>89.0</td>\n",
       "      <td>36.0</td>\n",
       "      <td>35.0</td>\n",
       "      <td>0.00</td>\n",
       "      <td>13.0</td>\n",
       "      <td>30.14</td>\n",
       "      <td>30.12</td>\n",
       "    </tr>\n",
       "    <tr>\n",
       "      <th>3</th>\n",
       "      <td>2011-01-27T16:51:00Z</td>\n",
       "      <td>18</td>\n",
       "      <td>48.0</td>\n",
       "      <td>36.0</td>\n",
       "      <td>30.0</td>\n",
       "      <td>0.00</td>\n",
       "      <td>14.0</td>\n",
       "      <td>29.82</td>\n",
       "      <td>29.80</td>\n",
       "    </tr>\n",
       "    <tr>\n",
       "      <th>4</th>\n",
       "      <td>2015-01-03T12:16:00Z</td>\n",
       "      <td>27</td>\n",
       "      <td>61.0</td>\n",
       "      <td>39.0</td>\n",
       "      <td>34.0</td>\n",
       "      <td>T</td>\n",
       "      <td>11.0</td>\n",
       "      <td>NaN</td>\n",
       "      <td>30.50</td>\n",
       "    </tr>\n",
       "  </tbody>\n",
       "</table>\n",
       "</div>"
      ],
      "text/plain": [
       "                   DATE HOURLYDewPointTempF  HOURLYRelativeHumidity  \\\n",
       "0  2015-07-25T13:51:00Z                  60                    46.0   \n",
       "1  2016-11-18T23:51:00Z                  34                    48.0   \n",
       "2  2013-01-06T08:51:00Z                  33                    89.0   \n",
       "3  2011-01-27T16:51:00Z                  18                    48.0   \n",
       "4  2015-01-03T12:16:00Z                  27                    61.0   \n",
       "\n",
       "   HOURLYDRYBULBTEMPF  HOURLYWETBULBTEMPF HOURLYPrecip  HOURLYWindSpeed  \\\n",
       "0                83.0                68.0         0.00             13.0   \n",
       "1                53.0                44.0         0.00              6.0   \n",
       "2                36.0                35.0         0.00             13.0   \n",
       "3                36.0                30.0         0.00             14.0   \n",
       "4                39.0                34.0            T             11.0   \n",
       "\n",
       "   HOURLYSeaLevelPressure  HOURLYStationPressure  \n",
       "0                   30.01                  29.99  \n",
       "1                   30.05                  30.03  \n",
       "2                   30.14                  30.12  \n",
       "3                   29.82                  29.80  \n",
       "4                     NaN                  30.50  "
      ]
     },
     "execution_count": 1,
     "metadata": {},
     "output_type": "execute_result"
    }
   ],
   "source": [
    "# The code was removed by Watson Studio for sharing."
   ]
  },
  {
   "cell_type": "code",
   "execution_count": null,
   "metadata": {},
   "outputs": [],
   "source": []
  }
 ],
 "metadata": {
  "kernelspec": {
   "display_name": "Python 3 (ipykernel)",
   "language": "python",
   "name": "python3"
  },
  "language_info": {
   "codemirror_mode": {
    "name": "ipython",
    "version": 3
   },
   "file_extension": ".py",
   "mimetype": "text/x-python",
   "name": "python",
   "nbconvert_exporter": "python",
   "pygments_lexer": "ipython3",
   "version": "3.9.2"
  }
 },
 "nbformat": 4,
 "nbformat_minor": 1
}
=======
    "cells": [
        {
            "metadata": {},
            "cell_type": "markdown",
            "source": "# Notebook For Testing\n\nThis notebook analyzys and visualizes data"
        },
        {
            "metadata": {},
            "cell_type": "code",
            "source": "\nimport os, types\nimport pandas as pd\nfrom botocore.client import Config\nimport ibm_boto3\n\ndef __iter__(self): return 0\n\n# @hidden_cell\n# The following code accesses a file in your IBM Cloud Object Storage. It includes your credentials.\n# You might want to remove those credentials before you share the notebook.\n\nif os.environ.get('RUNTIME_ENV_LOCATION_TYPE') == 'external':\n    endpoint_5b7db3f2961b47e689e3b1364c84a829 = 'https://s3.us.cloud-object-storage.appdomain.cloud'\nelse:\n    endpoint_5b7db3f2961b47e689e3b1364c84a829 = 'https://s3.private.us.cloud-object-storage.appdomain.cloud'\n\nclient_5b7db3f2961b47e689e3b1364c84a829 = ibm_boto3.client(service_name='s3',\n    ibm_api_key_id='QpNzcFgwDkzoH9KCHqet2JFH7CMCfrSqMV5M5iBn3Emo',\n    ibm_auth_endpoint=\"https://iam.cloud.ibm.com/oidc/token\",\n    config=Config(signature_version='oauth'),\n    endpoint_url=endpoint_5b7db3f2961b47e689e3b1364c84a829)\n\nbody = client_5b7db3f2961b47e689e3b1364c84a829.get_object(Bucket='myfirstproject-donotdelete-pr-q7w1aey317qjh6',Key='jfk_weather_sample.csv')['Body']\n# add missing __iter__ method, so pandas accepts body as file-like object\nif not hasattr(body, \"__iter__\"): body.__iter__ = types.MethodType( __iter__, body )\n\ndf_data_1 = pd.read_csv(body)\ndf_data_1.head()\n",
            "execution_count": 1,
            "outputs": [
                {
                    "output_type": "execute_result",
                    "execution_count": 1,
                    "data": {
                        "text/plain": "                   DATE HOURLYDewPointTempF  HOURLYRelativeHumidity  \\\n0  2015-07-25T13:51:00Z                  60                    46.0   \n1  2016-11-18T23:51:00Z                  34                    48.0   \n2  2013-01-06T08:51:00Z                  33                    89.0   \n3  2011-01-27T16:51:00Z                  18                    48.0   \n4  2015-01-03T12:16:00Z                  27                    61.0   \n\n   HOURLYDRYBULBTEMPF  HOURLYWETBULBTEMPF HOURLYPrecip  HOURLYWindSpeed  \\\n0                83.0                68.0         0.00             13.0   \n1                53.0                44.0         0.00              6.0   \n2                36.0                35.0         0.00             13.0   \n3                36.0                30.0         0.00             14.0   \n4                39.0                34.0            T             11.0   \n\n   HOURLYSeaLevelPressure  HOURLYStationPressure  \n0                   30.01                  29.99  \n1                   30.05                  30.03  \n2                   30.14                  30.12  \n3                   29.82                  29.80  \n4                     NaN                  30.50  ",
                        "text/html": "<div>\n<style scoped>\n    .dataframe tbody tr th:only-of-type {\n        vertical-align: middle;\n    }\n\n    .dataframe tbody tr th {\n        vertical-align: top;\n    }\n\n    .dataframe thead th {\n        text-align: right;\n    }\n</style>\n<table border=\"1\" class=\"dataframe\">\n  <thead>\n    <tr style=\"text-align: right;\">\n      <th></th>\n      <th>DATE</th>\n      <th>HOURLYDewPointTempF</th>\n      <th>HOURLYRelativeHumidity</th>\n      <th>HOURLYDRYBULBTEMPF</th>\n      <th>HOURLYWETBULBTEMPF</th>\n      <th>HOURLYPrecip</th>\n      <th>HOURLYWindSpeed</th>\n      <th>HOURLYSeaLevelPressure</th>\n      <th>HOURLYStationPressure</th>\n    </tr>\n  </thead>\n  <tbody>\n    <tr>\n      <th>0</th>\n      <td>2015-07-25T13:51:00Z</td>\n      <td>60</td>\n      <td>46.0</td>\n      <td>83.0</td>\n      <td>68.0</td>\n      <td>0.00</td>\n      <td>13.0</td>\n      <td>30.01</td>\n      <td>29.99</td>\n    </tr>\n    <tr>\n      <th>1</th>\n      <td>2016-11-18T23:51:00Z</td>\n      <td>34</td>\n      <td>48.0</td>\n      <td>53.0</td>\n      <td>44.0</td>\n      <td>0.00</td>\n      <td>6.0</td>\n      <td>30.05</td>\n      <td>30.03</td>\n    </tr>\n    <tr>\n      <th>2</th>\n      <td>2013-01-06T08:51:00Z</td>\n      <td>33</td>\n      <td>89.0</td>\n      <td>36.0</td>\n      <td>35.0</td>\n      <td>0.00</td>\n      <td>13.0</td>\n      <td>30.14</td>\n      <td>30.12</td>\n    </tr>\n    <tr>\n      <th>3</th>\n      <td>2011-01-27T16:51:00Z</td>\n      <td>18</td>\n      <td>48.0</td>\n      <td>36.0</td>\n      <td>30.0</td>\n      <td>0.00</td>\n      <td>14.0</td>\n      <td>29.82</td>\n      <td>29.80</td>\n    </tr>\n    <tr>\n      <th>4</th>\n      <td>2015-01-03T12:16:00Z</td>\n      <td>27</td>\n      <td>61.0</td>\n      <td>39.0</td>\n      <td>34.0</td>\n      <td>T</td>\n      <td>11.0</td>\n      <td>NaN</td>\n      <td>30.50</td>\n    </tr>\n  </tbody>\n</table>\n</div>"
                    },
                    "metadata": {}
                }
            ]
        },
        {
            "metadata": {},
            "cell_type": "code",
            "source": "",
            "execution_count": null,
            "outputs": []
        }
    ],
    "metadata": {
        "kernelspec": {
            "name": "python3",
            "display_name": "Python 3.8",
            "language": "python"
        },
        "language_info": {
            "name": "python",
            "version": "3.8.12",
            "mimetype": "text/x-python",
            "codemirror_mode": {
                "name": "ipython",
                "version": 3
            },
            "pygments_lexer": "ipython3",
            "nbconvert_exporter": "python",
            "file_extension": ".py"
        }
    },
    "nbformat": 4,
    "nbformat_minor": 1
}
>>>>>>> 2b6de785b345373d1c130cd33880fc1f2ab90e90
